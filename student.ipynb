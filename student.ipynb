{
  "cells": [
    {
      "cell_type": "markdown",
      "metadata": {
        "id": "48iLnGSx4A0z"
      },
      "source": [
        "## Final Project Submission\n",
        "\n",
        "Please fill out:\n",
        "* Student name: Mary Njeri Kamithi\n",
        "* Student pace: self paced / part time / full time : Full Time Remote (DSFT13)\n",
        "* Scheduled project review date/time: 29/6/2025\n",
        "* Instructor name: William Okomba\n",
        "* Blog post URL:\n",
        "\n",
        "\n"
      ]
    },
    {
      "cell_type": "markdown",
      "metadata": {
        "id": "mELLVjdlzAIL"
      },
      "source": [
        "#Aviation Accident Risk Analysis"
      ]
    },
    {
      "cell_type": "markdown",
      "metadata": {
        "id": "dTIvcLDP6w1z"
      },
      "source": [
        "\n",
        "\n",
        "\n",
        "#Introduction\n",
        "\n"
      ]
    },
    {
      "cell_type": "code",
      "execution_count": 16,
      "metadata": {
        "colab": {
          "base_uri": "https://localhost:8080/",
          "height": 70
        },
        "id": "fW1ttF0XhHj-",
        "outputId": "74a4bcef-a721-4359-9a40-f80a1ac09f0c"
      },
      "outputs": [
        {
          "data": {
            "text/plain": [
              "'\\nWelcome to my aviation accident analysis project!\\n\\nIn this project, I analyzed aviation accident data from the National Transportation Safety Board (NTSB) to help a company decide which types of aircraft might be the safest investment as they enter the aviation industry.\\nThe dataset includes accidents from 1962 to 2022, with information about flight phases, aircraft damage, fatalities, and more.\\n\\nMy goal was to clean and explore the data to find patterns in aviation accidents and identify which aircraft characteristics are linked to higher or lower risk.\\nI created visualizations and summarized the most important findings to support business decisions and reduce potential risks when purchasing aircraft.\\n\\n\\n'"
            ]
          },
          "execution_count": 16,
          "metadata": {},
          "output_type": "execute_result"
        }
      ],
      "source": [
        "'''\n",
        "Welcome to my aviation accident analysis project!\n",
        "\n",
        "In this project, I analyzed aviation accident data from the National Transportation Safety Board (NTSB) to help a company decide which types of aircraft might be the safest investment as they enter the aviation industry.\n",
        "The dataset includes accidents from 1962 to 2022, with information about flight phases, aircraft damage, fatalities, and more.\n",
        "\n",
        "My goal was to clean and explore the data to find patterns in aviation accidents and identify which aircraft characteristics are linked to higher or lower risk.\n",
        "I created visualizations and summarized the most important findings to support business decisions and reduce potential risks when purchasing aircraft.\n",
        "\n",
        "\n",
        "'''"
      ]
    },
    {
      "cell_type": "markdown",
      "metadata": {
        "id": "HC1TiEXQ6zO_"
      },
      "source": [
        "#Data Preparation"
      ]
    },
    {
      "cell_type": "code",
      "execution_count": 17,
      "metadata": {
        "id": "OF5mpvUz8Un_"
      },
      "outputs": [],
      "source": [
        "#All neccessary imports\n",
        "import pandas as pd\n",
        "import numpy\n",
        "import seaborn as sns\n",
        "import matplotlib.pyplot as plt"
      ]
    },
    {
      "cell_type": "code",
      "execution_count": 18,
      "metadata": {
        "colab": {
          "base_uri": "https://localhost:8080/",
          "height": 0
        },
        "id": "pxZnSumh9aw_",
        "outputId": "82b7da5d-098b-4fa3-a7cc-7a3a1d5dfffa"
      },
      "outputs": [
        {
          "name": "stderr",
          "output_type": "stream",
          "text": [
            "c:\\Users\\maryk\\anaconda3\\envs\\learn-env\\lib\\site-packages\\IPython\\core\\interactiveshell.py:3145: DtypeWarning: Columns (6,7,28) have mixed types.Specify dtype option on import or set low_memory=False.\n",
            "  has_raised = await self.run_ast_nodes(code_ast.body, cell_name,\n"
          ]
        }
      ],
      "source": [
        "#Loading the dataset\n",
        "df = pd.read_csv('.\\data\\Aviation_Data.csv', encoding='latin1')\n"
      ]
    },
    {
      "cell_type": "code",
      "execution_count": 19,
      "metadata": {
        "colab": {
          "base_uri": "https://localhost:8080/",
          "height": 342
        },
        "id": "7gXfA4RG-SYe",
        "outputId": "6a27a553-f8ff-4b55-af45-a992f22f39b0"
      },
      "outputs": [
        {
          "data": {
            "text/html": [
              "<div>\n",
              "<style scoped>\n",
              "    .dataframe tbody tr th:only-of-type {\n",
              "        vertical-align: middle;\n",
              "    }\n",
              "\n",
              "    .dataframe tbody tr th {\n",
              "        vertical-align: top;\n",
              "    }\n",
              "\n",
              "    .dataframe thead th {\n",
              "        text-align: right;\n",
              "    }\n",
              "</style>\n",
              "<table border=\"1\" class=\"dataframe\">\n",
              "  <thead>\n",
              "    <tr style=\"text-align: right;\">\n",
              "      <th></th>\n",
              "      <th>Event.Id</th>\n",
              "      <th>Investigation.Type</th>\n",
              "      <th>Accident.Number</th>\n",
              "      <th>Event.Date</th>\n",
              "      <th>Location</th>\n",
              "      <th>Country</th>\n",
              "      <th>Latitude</th>\n",
              "      <th>Longitude</th>\n",
              "      <th>Airport.Code</th>\n",
              "      <th>Airport.Name</th>\n",
              "      <th>...</th>\n",
              "      <th>Purpose.of.flight</th>\n",
              "      <th>Air.carrier</th>\n",
              "      <th>Total.Fatal.Injuries</th>\n",
              "      <th>Total.Serious.Injuries</th>\n",
              "      <th>Total.Minor.Injuries</th>\n",
              "      <th>Total.Uninjured</th>\n",
              "      <th>Weather.Condition</th>\n",
              "      <th>Broad.phase.of.flight</th>\n",
              "      <th>Report.Status</th>\n",
              "      <th>Publication.Date</th>\n",
              "    </tr>\n",
              "  </thead>\n",
              "  <tbody>\n",
              "    <tr>\n",
              "      <th>0</th>\n",
              "      <td>20001218X45444</td>\n",
              "      <td>Accident</td>\n",
              "      <td>SEA87LA080</td>\n",
              "      <td>1948-10-24</td>\n",
              "      <td>MOOSE CREEK, ID</td>\n",
              "      <td>United States</td>\n",
              "      <td>NaN</td>\n",
              "      <td>NaN</td>\n",
              "      <td>NaN</td>\n",
              "      <td>NaN</td>\n",
              "      <td>...</td>\n",
              "      <td>Personal</td>\n",
              "      <td>NaN</td>\n",
              "      <td>2.0</td>\n",
              "      <td>0.0</td>\n",
              "      <td>0.0</td>\n",
              "      <td>0.0</td>\n",
              "      <td>UNK</td>\n",
              "      <td>Cruise</td>\n",
              "      <td>Probable Cause</td>\n",
              "      <td>NaN</td>\n",
              "    </tr>\n",
              "    <tr>\n",
              "      <th>1</th>\n",
              "      <td>20001218X45447</td>\n",
              "      <td>Accident</td>\n",
              "      <td>LAX94LA336</td>\n",
              "      <td>1962-07-19</td>\n",
              "      <td>BRIDGEPORT, CA</td>\n",
              "      <td>United States</td>\n",
              "      <td>NaN</td>\n",
              "      <td>NaN</td>\n",
              "      <td>NaN</td>\n",
              "      <td>NaN</td>\n",
              "      <td>...</td>\n",
              "      <td>Personal</td>\n",
              "      <td>NaN</td>\n",
              "      <td>4.0</td>\n",
              "      <td>0.0</td>\n",
              "      <td>0.0</td>\n",
              "      <td>0.0</td>\n",
              "      <td>UNK</td>\n",
              "      <td>Unknown</td>\n",
              "      <td>Probable Cause</td>\n",
              "      <td>19-09-1996</td>\n",
              "    </tr>\n",
              "    <tr>\n",
              "      <th>2</th>\n",
              "      <td>20061025X01555</td>\n",
              "      <td>Accident</td>\n",
              "      <td>NYC07LA005</td>\n",
              "      <td>1974-08-30</td>\n",
              "      <td>Saltville, VA</td>\n",
              "      <td>United States</td>\n",
              "      <td>36.9222</td>\n",
              "      <td>-81.8781</td>\n",
              "      <td>NaN</td>\n",
              "      <td>NaN</td>\n",
              "      <td>...</td>\n",
              "      <td>Personal</td>\n",
              "      <td>NaN</td>\n",
              "      <td>3.0</td>\n",
              "      <td>NaN</td>\n",
              "      <td>NaN</td>\n",
              "      <td>NaN</td>\n",
              "      <td>IMC</td>\n",
              "      <td>Cruise</td>\n",
              "      <td>Probable Cause</td>\n",
              "      <td>26-02-2007</td>\n",
              "    </tr>\n",
              "    <tr>\n",
              "      <th>3</th>\n",
              "      <td>20001218X45448</td>\n",
              "      <td>Accident</td>\n",
              "      <td>LAX96LA321</td>\n",
              "      <td>1977-06-19</td>\n",
              "      <td>EUREKA, CA</td>\n",
              "      <td>United States</td>\n",
              "      <td>NaN</td>\n",
              "      <td>NaN</td>\n",
              "      <td>NaN</td>\n",
              "      <td>NaN</td>\n",
              "      <td>...</td>\n",
              "      <td>Personal</td>\n",
              "      <td>NaN</td>\n",
              "      <td>2.0</td>\n",
              "      <td>0.0</td>\n",
              "      <td>0.0</td>\n",
              "      <td>0.0</td>\n",
              "      <td>IMC</td>\n",
              "      <td>Cruise</td>\n",
              "      <td>Probable Cause</td>\n",
              "      <td>12-09-2000</td>\n",
              "    </tr>\n",
              "    <tr>\n",
              "      <th>4</th>\n",
              "      <td>20041105X01764</td>\n",
              "      <td>Accident</td>\n",
              "      <td>CHI79FA064</td>\n",
              "      <td>1979-08-02</td>\n",
              "      <td>Canton, OH</td>\n",
              "      <td>United States</td>\n",
              "      <td>NaN</td>\n",
              "      <td>NaN</td>\n",
              "      <td>NaN</td>\n",
              "      <td>NaN</td>\n",
              "      <td>...</td>\n",
              "      <td>Personal</td>\n",
              "      <td>NaN</td>\n",
              "      <td>1.0</td>\n",
              "      <td>2.0</td>\n",
              "      <td>NaN</td>\n",
              "      <td>0.0</td>\n",
              "      <td>VMC</td>\n",
              "      <td>Approach</td>\n",
              "      <td>Probable Cause</td>\n",
              "      <td>16-04-1980</td>\n",
              "    </tr>\n",
              "  </tbody>\n",
              "</table>\n",
              "<p>5 rows × 31 columns</p>\n",
              "</div>"
            ],
            "text/plain": [
              "         Event.Id Investigation.Type Accident.Number  Event.Date  \\\n",
              "0  20001218X45444           Accident      SEA87LA080  1948-10-24   \n",
              "1  20001218X45447           Accident      LAX94LA336  1962-07-19   \n",
              "2  20061025X01555           Accident      NYC07LA005  1974-08-30   \n",
              "3  20001218X45448           Accident      LAX96LA321  1977-06-19   \n",
              "4  20041105X01764           Accident      CHI79FA064  1979-08-02   \n",
              "\n",
              "          Location        Country Latitude Longitude Airport.Code  \\\n",
              "0  MOOSE CREEK, ID  United States      NaN       NaN          NaN   \n",
              "1   BRIDGEPORT, CA  United States      NaN       NaN          NaN   \n",
              "2    Saltville, VA  United States  36.9222  -81.8781          NaN   \n",
              "3       EUREKA, CA  United States      NaN       NaN          NaN   \n",
              "4       Canton, OH  United States      NaN       NaN          NaN   \n",
              "\n",
              "  Airport.Name  ... Purpose.of.flight Air.carrier Total.Fatal.Injuries  \\\n",
              "0          NaN  ...          Personal         NaN                  2.0   \n",
              "1          NaN  ...          Personal         NaN                  4.0   \n",
              "2          NaN  ...          Personal         NaN                  3.0   \n",
              "3          NaN  ...          Personal         NaN                  2.0   \n",
              "4          NaN  ...          Personal         NaN                  1.0   \n",
              "\n",
              "  Total.Serious.Injuries Total.Minor.Injuries Total.Uninjured  \\\n",
              "0                    0.0                  0.0             0.0   \n",
              "1                    0.0                  0.0             0.0   \n",
              "2                    NaN                  NaN             NaN   \n",
              "3                    0.0                  0.0             0.0   \n",
              "4                    2.0                  NaN             0.0   \n",
              "\n",
              "  Weather.Condition  Broad.phase.of.flight   Report.Status Publication.Date  \n",
              "0               UNK                 Cruise  Probable Cause              NaN  \n",
              "1               UNK                Unknown  Probable Cause       19-09-1996  \n",
              "2               IMC                 Cruise  Probable Cause       26-02-2007  \n",
              "3               IMC                 Cruise  Probable Cause       12-09-2000  \n",
              "4               VMC               Approach  Probable Cause       16-04-1980  \n",
              "\n",
              "[5 rows x 31 columns]"
            ]
          },
          "execution_count": 19,
          "metadata": {},
          "output_type": "execute_result"
        }
      ],
      "source": [
        "df.head()"
      ]
    },
    {
      "cell_type": "code",
      "execution_count": 20,
      "metadata": {
        "colab": {
          "base_uri": "https://localhost:8080/",
          "height": 0
        },
        "id": "gmmo5y8V-fS3",
        "outputId": "a04713f7-93b4-4a1f-be1f-cc3c9198d65c"
      },
      "outputs": [
        {
          "data": {
            "text/plain": [
              "(90348, 31)"
            ]
          },
          "execution_count": 20,
          "metadata": {},
          "output_type": "execute_result"
        }
      ],
      "source": [
        "df.shape"
      ]
    },
    {
      "cell_type": "code",
      "execution_count": 21,
      "metadata": {
        "colab": {
          "base_uri": "https://localhost:8080/",
          "height": 0
        },
        "id": "Xrspni0LRKx_",
        "outputId": "dbf70e8d-e44d-4a0f-9b0b-090a72de0ed3"
      },
      "outputs": [
        {
          "name": "stdout",
          "output_type": "stream",
          "text": [
            "Unique values in column 'Event.Id','\n",
            "': ['20001218X45444' '20001218X45447' '20061025X01555' ... '20221227106497'\n",
            " '20221227106498' '20221230106513'] \n",
            "\n",
            "Unique values in column 'Investigation.Type','\n",
            "': ['Accident' 'Incident' '25-09-2020' '14-06-2021' '03-11-2020' '24-02-2021'\n",
            " '02-02-2021' '05-05-2021' '03-12-2020' '07-12-2020' '06-05-2021'\n",
            " '19-11-2020' '04-08-2021' '13-09-2021' '10-06-2021' '14-12-2021'\n",
            " '08-06-2021' '24-06-2021' '24-08-2021' '31-03-2021' '27-05-2021'\n",
            " '20-05-2021' '18-11-2020' '25-05-2021' '01-06-2021' '15-07-2021'\n",
            " '15-10-2021' '26-09-2020' '03-06-2021' '29-09-2021' '28-01-2021'\n",
            " '20-10-2021' '11-12-2020' '11-02-2021' '13-12-2021' '06-01-2021'\n",
            " '31-08-2021' '04-03-2021' '05-04-2021' '26-01-2021' '29-01-2021'\n",
            " '26-08-2021' '08-11-2021' '20-08-2021' '05-01-2021' '22-09-2021'\n",
            " '20-09-2021' '16-07-2021' '19-10-2021' '16-11-2021' '17-12-2021'\n",
            " '14-06-2022' '22-06-2022' '13-10-2022' '03-11-2022' '13-07-2022'\n",
            " '05-07-2022' '01-09-2022' '12-08-2022' '08-09-2022' '22-09-2022'\n",
            " '01-11-2022' '01-07-2022' '20-07-2022' '06-10-2022' '23-09-2022'\n",
            " '02-12-2022' '05-08-2022' '08-12-2022' '15-12-2022' '20-12-2022'] \n",
            "\n",
            "Unique values in column 'Accident.Number','\n",
            "': ['SEA87LA080' 'LAX94LA336' 'NYC07LA005' ... 'WPR23LA075' 'WPR23LA076'\n",
            " 'ERA23LA097'] \n",
            "\n",
            "Unique values in column 'Event.Date','\n",
            "': ['1948-10-24' '1962-07-19' '1974-08-30' ... '2022-12-22' '2022-12-26'\n",
            " '2022-12-29'] \n",
            "\n",
            "Unique values in column 'Location','\n",
            "': ['MOOSE CREEK, ID' 'BRIDGEPORT, CA' 'Saltville, VA' ... 'San Manual, AZ'\n",
            " 'Auburn Hills, MI' 'Brasnorte, '] \n",
            "\n",
            "Unique values in column 'Country','\n",
            "': ['United States' nan 'GULF OF MEXICO' 'Puerto Rico' 'ATLANTIC OCEAN'\n",
            " 'HIGH ISLAND' 'Bahamas' 'MISSING' 'Pakistan' 'Angola' 'Germany'\n",
            " 'Korea, Republic Of' 'Martinique' 'American Samoa' 'PACIFIC OCEAN'\n",
            " 'Canada' 'Bolivia' 'Mexico' 'Dominica' 'Netherlands Antilles' 'Iceland'\n",
            " 'Greece' 'Guam' 'Australia' 'CARIBBEAN SEA' 'West Indies' 'Japan'\n",
            " 'Philippines' 'Venezuela' 'Bermuda' 'San Juan Islands' 'Colombia'\n",
            " 'El Salvador' 'United Kingdom' 'British Virgin Islands' 'Netherlands'\n",
            " 'Costa Rica' 'Mozambique' 'Jamaica' 'Panama' 'Guyana' 'Norway'\n",
            " 'Hong Kong' 'Portugal' 'Malaysia' 'Turks And Caicos Islands'\n",
            " 'Northern Mariana Islands' 'Dominican Republic' 'Suriname' 'Honduras'\n",
            " 'Congo' 'Belize' 'Guatemala' 'Anguilla' 'France'\n",
            " 'St Vincent And The Grenadines' 'Haiti' 'Montserrat' 'Papua New Guinea'\n",
            " 'Cayman Islands' 'Sweden' 'Taiwan' 'Senegal' 'Barbados' 'BLOCK 651A'\n",
            " 'Brazil' 'Mauritius' 'Argentina' 'Kenya' 'Ecuador' 'Aruba' 'Saudi Arabia'\n",
            " 'Cuba' 'Italy' 'French Guiana' 'Denmark' 'Sudan' 'Spain'\n",
            " 'Federated States Of Micronesia' 'St Lucia' 'Switzerland'\n",
            " 'Central African Republic' 'Algeria' 'Turkey' 'Nicaragua'\n",
            " 'Marshall Islands' 'Trinidad And Tobago' 'Poland' 'Belarus' 'Austria'\n",
            " 'Malta' 'Cameroon' 'Solomon Islands' 'Zambia' 'Peru' 'Croatia' 'Fiji'\n",
            " 'South Africa' 'India' 'Ethiopia' 'Ireland' 'Chile' 'Antigua And Barbuda'\n",
            " 'Uganda' 'China' 'Cambodia' 'Paraguay' 'Thailand' 'Belgium' 'Gambia'\n",
            " 'Uruguay' 'Tanzania' 'Mali' 'Indonesia' 'Bahrain' 'Kazakhstan' 'Egypt'\n",
            " 'Russia' 'Cyprus' \"Cote D'ivoire\" 'Nigeria' 'Greenland' 'Vietnam'\n",
            " 'New Zealand' 'Singapore' 'Ghana' 'Gabon' 'Nepal' 'Slovakia' 'Finland'\n",
            " 'Liberia' 'Romania' 'Maldives' 'Antarctica' 'Zimbabwe' 'Botswana'\n",
            " 'Isle of Man' 'Latvia' 'Niger' 'French Polynesia' 'Guadeloupe'\n",
            " 'Ivory Coast' 'Tunisia' 'Eritrea' 'Gibraltar' 'Namibia' 'Czech Republic'\n",
            " 'Benin' 'Bosnia And Herzegovina' 'Israel' 'Estonia' 'St Kitts And Nevis'\n",
            " 'Sierra Leone' 'Corsica' 'Scotland' 'Reunion' 'United Arab Emirates'\n",
            " 'Afghanistan' 'Ukraine' 'Hungary' 'Bangladesh' 'Morocco' 'Iraq' 'Jordan'\n",
            " 'Qatar' 'Madagascar' 'Malawi' 'Unknown' 'Central Africa' 'South Sudan'\n",
            " 'Saint Barthelemy' 'Micronesia' 'South Korea' 'Kyrgyzstan'\n",
            " 'Turks And Caicos' 'Eswatini' 'Tokelau' 'Sint Maarten' 'Macao'\n",
            " 'Seychelles' 'Rwanda' 'Palau' 'Luxembourg' 'Lebanon'\n",
            " 'Bosnia and Herzegovina' 'Libya' 'Guinea'\n",
            " 'Saint Vincent and the Grenadines' 'UN' 'Iran' 'Lithuania' 'Malampa'\n",
            " 'Antigua and Barbuda' 'AY' 'Chad' 'Cayenne' 'New Caledonia' 'Yemen'\n",
            " 'Slovenia' 'Nauru' 'Niue' 'Bulgaria' 'Republic of North Macedonia'\n",
            " 'Virgin Islands' 'Somalia' 'Pacific Ocean' 'Obyan' 'Mauritania' 'Albania'\n",
            " 'Wolseley' 'Wallis and Futuna' 'Saint Pierre and Miquelon' 'Georgia'\n",
            " \"CÃ´te d'Ivoire\" 'South Korean' 'Serbia' 'MU' 'Guernsey' 'Great Britain'\n",
            " 'Turks and Caicos Islands'] \n",
            "\n",
            "Unique values in column 'Latitude','\n",
            "': [nan 36.922222999999995 42.445277000000004 ... '321814N' '039101N'\n",
            " '373829N'] \n",
            "\n",
            "Unique values in column 'Longitude','\n",
            "': [nan -81.878056 -70.758333 ... '1114536W' '0835218W' '0121410W'] \n",
            "\n",
            "Unique values in column 'Airport.Code','\n",
            "': [nan 'N58' 'JAX' ... 'SKMD' 'OMAA' 'EIKH'] \n",
            "\n",
            "Unique values in column 'Airport.Name','\n",
            "': [nan 'BLACKBURN AG STRIP' 'HANOVER' ... 'HAWKINSVILLE-PULASKI COUNTY'\n",
            " 'Lewiston Municipal Airport' 'WICHITA DWIGHT D EISENHOWER NT'] \n",
            "\n",
            "Unique values in column 'Injury.Severity','\n",
            "': ['Fatal(2)' 'Fatal(4)' 'Fatal(3)' 'Fatal(1)' 'Non-Fatal' 'Incident'\n",
            " 'Fatal(8)' 'Fatal(78)' 'Fatal(7)' 'Fatal(6)' 'Fatal(5)' 'Fatal(153)'\n",
            " 'Fatal(12)' 'Fatal(14)' 'Fatal(23)' 'Fatal(10)' 'Fatal(11)' 'Fatal(9)'\n",
            " 'Fatal(17)' 'Fatal(13)' 'Fatal(29)' 'Fatal(70)' 'Unavailable'\n",
            " 'Fatal(135)' 'Fatal(31)' 'Fatal(256)' 'Fatal(25)' 'Fatal(82)'\n",
            " 'Fatal(156)' 'Fatal(28)' 'Fatal(18)' 'Fatal(43)' 'Fatal(15)' 'Fatal(270)'\n",
            " 'Fatal(144)' 'Fatal(174)' 'Fatal(111)' 'Fatal(131)' 'Fatal(20)'\n",
            " 'Fatal(73)' 'Fatal(27)' 'Fatal(34)' 'Fatal(87)' 'Fatal(30)' 'Fatal(16)'\n",
            " 'Fatal(47)' 'Fatal(56)' 'Fatal(37)' 'Fatal(132)' 'Fatal(68)' 'Fatal(54)'\n",
            " 'Fatal(52)' 'Fatal(65)' 'Fatal(72)' 'Fatal(160)' 'Fatal(189)'\n",
            " 'Fatal(123)' 'Fatal(33)' 'Fatal(110)' 'Fatal(230)' 'Fatal(97)'\n",
            " 'Fatal(349)' 'Fatal(125)' 'Fatal(35)' 'Fatal(228)' 'Fatal(75)'\n",
            " 'Fatal(104)' 'Fatal(229)' 'Fatal(80)' 'Fatal(217)' 'Fatal(169)'\n",
            " 'Fatal(88)' 'Fatal(19)' 'Fatal(60)' 'Fatal(113)' 'Fatal(143)' 'Fatal(83)'\n",
            " 'Fatal(24)' 'Fatal(44)' 'Fatal(64)' 'Fatal(92)' 'Fatal(118)' 'Fatal(265)'\n",
            " 'Fatal(26)' 'Fatal(138)' 'Fatal(206)' 'Fatal(71)' 'Fatal(21)' 'Fatal(46)'\n",
            " 'Fatal(102)' 'Fatal(115)' 'Fatal(141)' 'Fatal(55)' 'Fatal(121)'\n",
            " 'Fatal(45)' 'Fatal(145)' 'Fatal(117)' 'Fatal(107)' 'Fatal(124)'\n",
            " 'Fatal(49)' 'Fatal(154)' 'Fatal(96)' 'Fatal(114)' 'Fatal(199)'\n",
            " 'Fatal(89)' 'Fatal(57)' 'Fatal' nan 'Minor' 'Serious'] \n",
            "\n",
            "Unique values in column 'Aircraft.damage','\n",
            "': ['Destroyed' 'Substantial' 'Minor' nan 'Unknown'] \n",
            "\n",
            "Unique values in column 'Aircraft.Category','\n",
            "': [nan 'Airplane' 'Helicopter' 'Glider' 'Balloon' 'Gyrocraft' 'Ultralight'\n",
            " 'Unknown' 'Blimp' 'Powered-Lift' 'Weight-Shift' 'Powered Parachute'\n",
            " 'Rocket' 'WSFT' 'UNK' 'ULTR'] \n",
            "\n",
            "Unique values in column 'Registration.Number','\n",
            "': ['NC6404' 'N5069P' 'N5142R' ... 'N749PJ' 'N210CU' 'N9026P'] \n",
            "\n",
            "Unique values in column 'Make','\n",
            "': ['Stinson' 'Piper' 'Cessna' ... 'JAMES R DERNOVSEK' 'ORLICAN S R O'\n",
            " 'ROYSE RALPH L'] \n",
            "\n",
            "Unique values in column 'Model','\n",
            "': ['108-3' 'PA24-180' '172M' ... 'ROTORWAY EXEC 162-F' 'KITFOX S5'\n",
            " 'M-8 EAGLE'] \n",
            "\n",
            "Unique values in column 'Amateur.Built','\n",
            "': ['No' 'Yes' nan] \n",
            "\n",
            "Unique values in column 'Number.of.Engines','\n",
            "': [ 1. nan  2.  0.  3.  4.  8.  6.] \n",
            "\n",
            "Unique values in column 'Engine.Type','\n",
            "': ['Reciprocating' nan 'Turbo Fan' 'Turbo Shaft' 'Unknown' 'Turbo Prop'\n",
            " 'Turbo Jet' 'None' 'Electric' 'Hybrid Rocket' 'Geared Turbofan' 'LR'\n",
            " 'NONE' 'UNK'] \n",
            "\n",
            "Unique values in column 'FAR.Description','\n",
            "': [nan 'Part 129: Foreign' 'Part 91: General Aviation'\n",
            " 'Part 135: Air Taxi & Commuter' 'Part 125: 20+ Pax,6000+ lbs'\n",
            " 'Part 121: Air Carrier' 'Part 137: Agricultural'\n",
            " 'Part 133: Rotorcraft Ext. Load' 'Unknown' 'Part 91F: Special Flt Ops.'\n",
            " 'Non-U.S., Non-Commercial' 'Public Aircraft' 'Non-U.S., Commercial'\n",
            " 'Public Use' 'Armed Forces' 'Part 91 Subpart K: Fractional' '091' 'NUSC'\n",
            " '135' 'NUSN' '121' '137' '129' '133' '091K' 'UNK' 'PUBU' 'ARMF' '103'\n",
            " '125' '437' '107'] \n",
            "\n",
            "Unique values in column 'Schedule','\n",
            "': [nan 'SCHD' 'NSCH' 'UNK'] \n",
            "\n",
            "Unique values in column 'Purpose.of.flight','\n",
            "': ['Personal' nan 'Business' 'Instructional' 'Unknown' 'Ferry'\n",
            " 'Executive/corporate' 'Aerial Observation' 'Aerial Application'\n",
            " 'Public Aircraft' 'Skydiving' 'Other Work Use' 'Positioning'\n",
            " 'Flight Test' 'Air Race/show' 'Air Drop' 'Public Aircraft - Federal'\n",
            " 'Glider Tow' 'Public Aircraft - Local' 'External Load'\n",
            " 'Public Aircraft - State' 'Banner Tow' 'Firefighting' 'Air Race show'\n",
            " 'PUBS' 'ASHO' 'PUBL'] \n",
            "\n",
            "Unique values in column 'Air.carrier','\n",
            "': [nan 'Air Canada' 'Rocky Mountain Helicopters, In' ...\n",
            " 'SKY WEST AVIATION INC TRUSTEE' 'GERBER RICHARD E' 'MC CESSNA 210N LLC'] \n",
            "\n",
            "Unique values in column 'Total.Fatal.Injuries','\n",
            "': [  2.   4.   3.   1.  nan   0.   8.  78.   7.   6.   5. 153.  12.  14.\n",
            "  23.  10.  11.   9.  17.  13.  29.  70. 135.  31. 256.  25.  82. 156.\n",
            "  28.  18.  43.  15. 270. 144. 174. 111. 131.  20.  73.  27.  34.  87.\n",
            "  30.  16.  47.  56.  37. 132.  68.  54.  52.  65.  72. 160. 189. 123.\n",
            "  33. 110. 230.  97. 349. 125.  35. 228.  75. 104. 229.  80. 217. 169.\n",
            "  88.  19.  60. 113. 143.  83.  24.  44.  64.  92. 118. 265.  26. 138.\n",
            " 206.  71.  21.  46. 102. 115. 141.  55. 121.  45. 145. 117. 107. 124.\n",
            "  49. 154.  96. 114. 199.  89.  57. 152.  90. 103. 158. 157.  42.  77.\n",
            " 127.  50. 239. 295.  58. 162. 150. 224.  62.  66. 112. 188.  41. 176.] \n",
            "\n",
            "Unique values in column 'Total.Serious.Injuries','\n",
            "': [  0.  nan   2.   1.   6.   4.   5.  10.   3.   8.   9.   7.  15.  17.\n",
            "  28.  26.  47.  14.  81.  13. 106.  60.  16.  21.  50.  44.  18.  12.\n",
            "  45.  39.  43.  11.  25.  59.  23.  55.  63.  88.  41.  34.  53.  33.\n",
            "  67.  35.  20. 137.  19.  27. 125. 161.  22.] \n",
            "\n",
            "Unique values in column 'Total.Minor.Injuries','\n",
            "': [  0.  nan   1.   3.   2.   4.  24.   6.   5.  25.  17.  19.  33.  14.\n",
            "   8.  13.  15.   7.   9.  16.  20.  11.  12.  10.  38.  42.  29.  62.\n",
            "  28.  31.  39.  32.  18.  27.  57.  50.  23. 125.  45.  26.  36.  69.\n",
            "  21.  96.  30.  22.  58. 171.  65.  71. 200.  68.  47. 380.  35.  43.\n",
            "  84.  40.] \n",
            "\n",
            "Unique values in column 'Total.Uninjured','\n",
            "': [  0.  nan  44.   2.   1.   3.   6.   4. 149.  12. 182. 154.   5.  10.\n",
            "   7. 119.  36.  51.  16.  83.   9.  68.  30.  20.  18.   8. 108.  11.\n",
            " 152.  21.  48.  56. 113. 129. 109.  29.  13.  84.  74. 142. 102. 393.\n",
            " 128. 112.  17.  65.  67. 136.  23. 116.  22.  57.  58.  73. 203.  31.\n",
            " 201. 412. 159.  39. 186. 588.  82.  95. 146. 190. 245. 172.  52.  25.\n",
            "  59. 131. 151. 180. 150.  86.  19. 133. 240.  15. 145. 125. 440.  77.\n",
            " 122. 205. 289. 110.  79.  66.  87.  78.  49. 104. 250.  33. 138. 100.\n",
            "  53. 158. 127. 160. 260.  47.  38. 165. 495.  81.  41.  14.  72.  98.\n",
            " 263. 188. 239.  27. 105. 111. 212. 157.  46. 121.  75.  71.  45.  91.\n",
            "  99.  85.  96.  50.  93. 276. 365. 371. 200. 103. 189.  37. 107.  61.\n",
            "  26. 271. 130.  89. 439. 132. 219.  43. 238. 195. 118. 175.  32. 507.\n",
            " 421.  90. 225. 269. 169. 236. 224. 134. 106. 331. 140.  94. 192. 161.\n",
            " 270.  69. 436. 213. 233. 115.  42. 167. 137. 114. 148. 222.  92. 375.\n",
            "  76. 171. 173. 246. 234. 123. 220. 202. 408. 279. 363. 135. 528. 334.\n",
            " 178. 147. 126.  62.  70.  97. 228. 226.  64. 290. 206. 297. 349. 208.\n",
            " 144.  54.  24. 258. 304. 274. 286.  55. 199. 221.  80. 272. 211. 262.\n",
            " 441. 194. 309. 185. 261. 241. 383. 177. 259. 244. 254. 156.  40.  34.\n",
            " 247. 176.  63.  28. 218. 282. 320. 204. 124. 215. 298. 120. 280. 179.\n",
            " 315. 461. 153.  60. 308.  88. 361. 277. 191. 235. 187. 101. 162.  35.\n",
            " 197. 193. 164. 370. 387. 163. 139. 267. 357. 339. 288. 231. 300. 255.\n",
            " 306. 443. 385. 248. 459. 141. 414. 229. 166. 209. 184. 168. 170. 198.\n",
            " 299. 573. 223. 265. 322. 196. 117. 253. 399. 360. 252. 217. 155. 183.\n",
            " 227. 249. 329. 340. 699. 325. 287. 143. 243. 230. 386. 181. 257. 283.\n",
            " 404. 319. 450. 356. 216. 174. 558. 214. 448. 324. 338. 273. 232. 401.\n",
            " 312. 368. 501. 237. 307. 296. 291. 403. 314. 285. 311. 293. 352. 332.\n",
            " 384. 275. 210. 268. 326. 454. 278. 576. 380. 394. 362. 397. 359. 264.\n",
            " 333. 367. 302. 348. 351. 358. 295. 321. 521. 301. 294. 378. 207. 406.\n",
            " 251. 455.] \n",
            "\n",
            "Unique values in column 'Weather.Condition','\n",
            "': ['UNK' 'IMC' 'VMC' nan 'Unk'] \n",
            "\n",
            "Unique values in column 'Broad.phase.of.flight','\n",
            "': ['Cruise' 'Unknown' 'Approach' 'Climb' 'Takeoff' 'Landing' 'Taxi'\n",
            " 'Descent' 'Maneuvering' 'Standing' 'Go-around' 'Other' nan] \n",
            "\n",
            "Unique values in column 'Report.Status','\n",
            "': ['Probable Cause' 'Factual' 'Foreign' ...\n",
            " 'The pilot did not ensure adequate clearance from construction vehicles during taxi.'\n",
            " 'The pilotÂ\\x92s failure to secure the magneto switch before attempting to hand rotate the engine which resulted in an inadvertent engine start, a runaway airplane, and subsequent impact with parked airplanes. Contributing to the accident was the failure to properly secure the airplane with chocks.'\n",
            " 'The pilotÂ\\x92s loss of control due to a wind gust during landing.'] \n",
            "\n",
            "Unique values in column 'Publication.Date','\n",
            "': [nan '19-09-1996' '26-02-2007' ... '22-12-2022' '23-12-2022' '29-12-2022'] \n",
            "\n"
          ]
        }
      ],
      "source": [
        "for column in df:\n",
        "  unique_values = df[column].unique()\n",
        "  print(f\"Unique values in column '{column}','\\n': {unique_values}\",'\\n')"
      ]
    },
    {
      "cell_type": "code",
      "execution_count": 22,
      "metadata": {
        "colab": {
          "base_uri": "https://localhost:8080/",
          "height": 1056
        },
        "id": "oiJDwMeH-xhI",
        "outputId": "039d836f-f00f-45c9-d754-4fb0c0f78018"
      },
      "outputs": [
        {
          "data": {
            "text/plain": [
              "Event.Id                   1459\n",
              "Investigation.Type            0\n",
              "Accident.Number            1459\n",
              "Event.Date                 1459\n",
              "Location                   1511\n",
              "Country                    1685\n",
              "Latitude                  55966\n",
              "Longitude                 55975\n",
              "Airport.Code              40099\n",
              "Airport.Name              37558\n",
              "Injury.Severity            2459\n",
              "Aircraft.damage            4653\n",
              "Aircraft.Category         58061\n",
              "Registration.Number        2776\n",
              "Make                       1522\n",
              "Model                      1551\n",
              "Amateur.Built              1561\n",
              "Number.of.Engines          7543\n",
              "Engine.Type                8536\n",
              "FAR.Description           58325\n",
              "Schedule                  77766\n",
              "Purpose.of.flight          7651\n",
              "Air.carrier               73700\n",
              "Total.Fatal.Injuries      12860\n",
              "Total.Serious.Injuries    13969\n",
              "Total.Minor.Injuries      13392\n",
              "Total.Uninjured            7371\n",
              "Weather.Condition          5951\n",
              "Broad.phase.of.flight     28624\n",
              "Report.Status              7840\n",
              "Publication.Date          16689\n",
              "dtype: int64"
            ]
          },
          "execution_count": 22,
          "metadata": {},
          "output_type": "execute_result"
        }
      ],
      "source": [
        "df.isnull().sum()"
      ]
    },
    {
      "cell_type": "code",
      "execution_count": 23,
      "metadata": {
        "colab": {
          "base_uri": "https://localhost:8080/",
          "height": 342
        },
        "id": "Ah1fEfdn_0Si",
        "outputId": "92f39ac7-a18c-441e-c478-b55e2f87355f"
      },
      "outputs": [
        {
          "data": {
            "text/html": [
              "<div>\n",
              "<style scoped>\n",
              "    .dataframe tbody tr th:only-of-type {\n",
              "        vertical-align: middle;\n",
              "    }\n",
              "\n",
              "    .dataframe tbody tr th {\n",
              "        vertical-align: top;\n",
              "    }\n",
              "\n",
              "    .dataframe thead th {\n",
              "        text-align: right;\n",
              "    }\n",
              "</style>\n",
              "<table border=\"1\" class=\"dataframe\">\n",
              "  <thead>\n",
              "    <tr style=\"text-align: right;\">\n",
              "      <th></th>\n",
              "      <th>Event.Id</th>\n",
              "      <th>Investigation.Type</th>\n",
              "      <th>Accident.Number</th>\n",
              "      <th>Event.Date</th>\n",
              "      <th>Location</th>\n",
              "      <th>Country</th>\n",
              "      <th>Latitude</th>\n",
              "      <th>Longitude</th>\n",
              "      <th>Airport.Code</th>\n",
              "      <th>Airport.Name</th>\n",
              "      <th>...</th>\n",
              "      <th>Purpose.of.flight</th>\n",
              "      <th>Air.carrier</th>\n",
              "      <th>Total.Fatal.Injuries</th>\n",
              "      <th>Total.Serious.Injuries</th>\n",
              "      <th>Total.Minor.Injuries</th>\n",
              "      <th>Total.Uninjured</th>\n",
              "      <th>Weather.Condition</th>\n",
              "      <th>Broad.phase.of.flight</th>\n",
              "      <th>Report.Status</th>\n",
              "      <th>Publication.Date</th>\n",
              "    </tr>\n",
              "  </thead>\n",
              "  <tbody>\n",
              "    <tr>\n",
              "      <th>0</th>\n",
              "      <td>20001218X45444</td>\n",
              "      <td>Accident</td>\n",
              "      <td>SEA87LA080</td>\n",
              "      <td>1948-10-24</td>\n",
              "      <td>MOOSE CREEK, ID</td>\n",
              "      <td>United States</td>\n",
              "      <td>NaN</td>\n",
              "      <td>NaN</td>\n",
              "      <td>NaN</td>\n",
              "      <td>NaN</td>\n",
              "      <td>...</td>\n",
              "      <td>Personal</td>\n",
              "      <td>NaN</td>\n",
              "      <td>2.0</td>\n",
              "      <td>0.0</td>\n",
              "      <td>0.0</td>\n",
              "      <td>0.0</td>\n",
              "      <td>UNK</td>\n",
              "      <td>Cruise</td>\n",
              "      <td>Probable Cause</td>\n",
              "      <td>NaN</td>\n",
              "    </tr>\n",
              "    <tr>\n",
              "      <th>1</th>\n",
              "      <td>20001218X45447</td>\n",
              "      <td>Accident</td>\n",
              "      <td>LAX94LA336</td>\n",
              "      <td>1962-07-19</td>\n",
              "      <td>BRIDGEPORT, CA</td>\n",
              "      <td>United States</td>\n",
              "      <td>NaN</td>\n",
              "      <td>NaN</td>\n",
              "      <td>NaN</td>\n",
              "      <td>NaN</td>\n",
              "      <td>...</td>\n",
              "      <td>Personal</td>\n",
              "      <td>NaN</td>\n",
              "      <td>4.0</td>\n",
              "      <td>0.0</td>\n",
              "      <td>0.0</td>\n",
              "      <td>0.0</td>\n",
              "      <td>UNK</td>\n",
              "      <td>Unknown</td>\n",
              "      <td>Probable Cause</td>\n",
              "      <td>19-09-1996</td>\n",
              "    </tr>\n",
              "    <tr>\n",
              "      <th>2</th>\n",
              "      <td>20061025X01555</td>\n",
              "      <td>Accident</td>\n",
              "      <td>NYC07LA005</td>\n",
              "      <td>1974-08-30</td>\n",
              "      <td>Saltville, VA</td>\n",
              "      <td>United States</td>\n",
              "      <td>36.9222</td>\n",
              "      <td>-81.8781</td>\n",
              "      <td>NaN</td>\n",
              "      <td>NaN</td>\n",
              "      <td>...</td>\n",
              "      <td>Personal</td>\n",
              "      <td>NaN</td>\n",
              "      <td>3.0</td>\n",
              "      <td>NaN</td>\n",
              "      <td>NaN</td>\n",
              "      <td>NaN</td>\n",
              "      <td>IMC</td>\n",
              "      <td>Cruise</td>\n",
              "      <td>Probable Cause</td>\n",
              "      <td>26-02-2007</td>\n",
              "    </tr>\n",
              "    <tr>\n",
              "      <th>3</th>\n",
              "      <td>20001218X45448</td>\n",
              "      <td>Accident</td>\n",
              "      <td>LAX96LA321</td>\n",
              "      <td>1977-06-19</td>\n",
              "      <td>EUREKA, CA</td>\n",
              "      <td>United States</td>\n",
              "      <td>NaN</td>\n",
              "      <td>NaN</td>\n",
              "      <td>NaN</td>\n",
              "      <td>NaN</td>\n",
              "      <td>...</td>\n",
              "      <td>Personal</td>\n",
              "      <td>NaN</td>\n",
              "      <td>2.0</td>\n",
              "      <td>0.0</td>\n",
              "      <td>0.0</td>\n",
              "      <td>0.0</td>\n",
              "      <td>IMC</td>\n",
              "      <td>Cruise</td>\n",
              "      <td>Probable Cause</td>\n",
              "      <td>12-09-2000</td>\n",
              "    </tr>\n",
              "    <tr>\n",
              "      <th>4</th>\n",
              "      <td>20041105X01764</td>\n",
              "      <td>Accident</td>\n",
              "      <td>CHI79FA064</td>\n",
              "      <td>1979-08-02</td>\n",
              "      <td>Canton, OH</td>\n",
              "      <td>United States</td>\n",
              "      <td>NaN</td>\n",
              "      <td>NaN</td>\n",
              "      <td>NaN</td>\n",
              "      <td>NaN</td>\n",
              "      <td>...</td>\n",
              "      <td>Personal</td>\n",
              "      <td>NaN</td>\n",
              "      <td>1.0</td>\n",
              "      <td>2.0</td>\n",
              "      <td>NaN</td>\n",
              "      <td>0.0</td>\n",
              "      <td>VMC</td>\n",
              "      <td>Approach</td>\n",
              "      <td>Probable Cause</td>\n",
              "      <td>16-04-1980</td>\n",
              "    </tr>\n",
              "  </tbody>\n",
              "</table>\n",
              "<p>5 rows × 31 columns</p>\n",
              "</div>"
            ],
            "text/plain": [
              "         Event.Id Investigation.Type Accident.Number  Event.Date  \\\n",
              "0  20001218X45444           Accident      SEA87LA080  1948-10-24   \n",
              "1  20001218X45447           Accident      LAX94LA336  1962-07-19   \n",
              "2  20061025X01555           Accident      NYC07LA005  1974-08-30   \n",
              "3  20001218X45448           Accident      LAX96LA321  1977-06-19   \n",
              "4  20041105X01764           Accident      CHI79FA064  1979-08-02   \n",
              "\n",
              "          Location        Country Latitude Longitude Airport.Code  \\\n",
              "0  MOOSE CREEK, ID  United States      NaN       NaN          NaN   \n",
              "1   BRIDGEPORT, CA  United States      NaN       NaN          NaN   \n",
              "2    Saltville, VA  United States  36.9222  -81.8781          NaN   \n",
              "3       EUREKA, CA  United States      NaN       NaN          NaN   \n",
              "4       Canton, OH  United States      NaN       NaN          NaN   \n",
              "\n",
              "  Airport.Name  ... Purpose.of.flight Air.carrier Total.Fatal.Injuries  \\\n",
              "0          NaN  ...          Personal         NaN                  2.0   \n",
              "1          NaN  ...          Personal         NaN                  4.0   \n",
              "2          NaN  ...          Personal         NaN                  3.0   \n",
              "3          NaN  ...          Personal         NaN                  2.0   \n",
              "4          NaN  ...          Personal         NaN                  1.0   \n",
              "\n",
              "  Total.Serious.Injuries Total.Minor.Injuries Total.Uninjured  \\\n",
              "0                    0.0                  0.0             0.0   \n",
              "1                    0.0                  0.0             0.0   \n",
              "2                    NaN                  NaN             NaN   \n",
              "3                    0.0                  0.0             0.0   \n",
              "4                    2.0                  NaN             0.0   \n",
              "\n",
              "  Weather.Condition  Broad.phase.of.flight   Report.Status Publication.Date  \n",
              "0               UNK                 Cruise  Probable Cause              NaN  \n",
              "1               UNK                Unknown  Probable Cause       19-09-1996  \n",
              "2               IMC                 Cruise  Probable Cause       26-02-2007  \n",
              "3               IMC                 Cruise  Probable Cause       12-09-2000  \n",
              "4               VMC               Approach  Probable Cause       16-04-1980  \n",
              "\n",
              "[5 rows x 31 columns]"
            ]
          },
          "execution_count": 23,
          "metadata": {},
          "output_type": "execute_result"
        }
      ],
      "source": [
        "df.head()"
      ]
    },
    {
      "cell_type": "code",
      "execution_count": 24,
      "metadata": {
        "colab": {
          "base_uri": "https://localhost:8080/",
          "height": 899
        },
        "id": "l12q2DLwMrFA",
        "outputId": "0576f66f-b2d6-4e11-82c4-fc56062ce943"
      },
      "outputs": [
        {
          "data": {
            "text/plain": [
              "Event.Id                   object\n",
              "Investigation.Type         object\n",
              "Accident.Number            object\n",
              "Event.Date                 object\n",
              "Location                   object\n",
              "Country                    object\n",
              "Latitude                   object\n",
              "Longitude                  object\n",
              "Airport.Code               object\n",
              "Airport.Name               object\n",
              "Injury.Severity            object\n",
              "Aircraft.damage            object\n",
              "Aircraft.Category          object\n",
              "Registration.Number        object\n",
              "Make                       object\n",
              "Model                      object\n",
              "Amateur.Built              object\n",
              "Number.of.Engines         float64\n",
              "Engine.Type                object\n",
              "FAR.Description            object\n",
              "Schedule                   object\n",
              "Purpose.of.flight          object\n",
              "Air.carrier                object\n",
              "Total.Fatal.Injuries      float64\n",
              "Total.Serious.Injuries    float64\n",
              "Total.Minor.Injuries      float64\n",
              "Total.Uninjured           float64\n",
              "Weather.Condition          object\n",
              "Broad.phase.of.flight      object\n",
              "Report.Status              object\n",
              "Publication.Date           object\n",
              "dtype: object"
            ]
          },
          "execution_count": 24,
          "metadata": {},
          "output_type": "execute_result"
        }
      ],
      "source": [
        "df.dtypes"
      ]
    },
    {
      "cell_type": "markdown",
      "metadata": {
        "id": "QpSH1LSDCPf4"
      },
      "source": [
        "Handling null values"
      ]
    },
    {
      "cell_type": "code",
      "execution_count": 25,
      "metadata": {
        "id": "h1YMHZrWCVRX"
      },
      "outputs": [],
      "source": [
        "#handling the columns with too many null values\n",
        "high_null_cols = ['Latitude','Longitude','Aircraft.Category','FAR.Description','Schedule','Air.carrier']\n",
        "df.drop(columns = high_null_cols, inplace =True)"
      ]
    },
    {
      "cell_type": "code",
      "execution_count": 26,
      "metadata": {
        "id": "Y4JuCcONDoVJ"
      },
      "outputs": [],
      "source": [
        "#Filling numeric cols with 0\n",
        "num_cols = ['Total.Fatal.Injuries','Total.Serious.Injuries','Total.Minor.Injuries','Total.Uninjured']\n",
        "df[num_cols] = df[num_cols].fillna(0)"
      ]
    },
    {
      "cell_type": "code",
      "execution_count": 27,
      "metadata": {
        "id": "AGJ4IBetEEW2"
      },
      "outputs": [],
      "source": [
        "#Filling categorical cols with 'Unknown'\n",
        "cat_cols =[ 'Location', 'Country', 'Airport.Code', 'Airport.Name','Injury.Severity', 'Aircraft.damage', 'Registration.Number','Make', 'Model', 'Amateur.Built', 'Engine.Type','Purpose.of.flight', 'Weather.Condition', 'Broad.phase.of.flight','Report.Status']\n",
        "df[cat_cols] = df[cat_cols].fillna('Unknown')"
      ]
    },
    {
      "cell_type": "code",
      "execution_count": 28,
      "metadata": {
        "colab": {
          "base_uri": "https://localhost:8080/",
          "height": 0
        },
        "id": "ArcrzSoeElx_",
        "outputId": "20f779ee-2933-49f7-a3f3-30d7e65bf50b"
      },
      "outputs": [],
      "source": [
        "#Converting dates and handling null vals\n",
        "df['Event.Date'] = pd.to_datetime(df['Event.Date'], errors = 'coerce')\n",
        "df['Publication.Date'] = pd.to_datetime(df['Publication.Date'], errors = 'coerce')\n",
        "\n"
      ]
    },
    {
      "cell_type": "code",
      "execution_count": 29,
      "metadata": {
        "colab": {
          "base_uri": "https://localhost:8080/",
          "height": 868
        },
        "id": "iSGgXy3rFN9l",
        "outputId": "ca411976-5fc4-407a-f43f-44b9871dce61"
      },
      "outputs": [
        {
          "data": {
            "text/plain": [
              "Event.Id                   1459\n",
              "Investigation.Type            0\n",
              "Accident.Number            1459\n",
              "Event.Date                 1459\n",
              "Location                      0\n",
              "Country                       0\n",
              "Airport.Code                  0\n",
              "Airport.Name                  0\n",
              "Injury.Severity               0\n",
              "Aircraft.damage               0\n",
              "Registration.Number           0\n",
              "Make                          0\n",
              "Model                         0\n",
              "Amateur.Built                 0\n",
              "Number.of.Engines          7543\n",
              "Engine.Type                   0\n",
              "Purpose.of.flight             0\n",
              "Total.Fatal.Injuries          0\n",
              "Total.Serious.Injuries        0\n",
              "Total.Minor.Injuries          0\n",
              "Total.Uninjured               0\n",
              "Weather.Condition             0\n",
              "Broad.phase.of.flight         0\n",
              "Report.Status                 0\n",
              "Publication.Date          16689\n",
              "dtype: int64"
            ]
          },
          "execution_count": 29,
          "metadata": {},
          "output_type": "execute_result"
        }
      ],
      "source": [
        "#Rechecking missing vals\n",
        "df.isnull().sum()"
      ]
    },
    {
      "cell_type": "code",
      "execution_count": 30,
      "metadata": {
        "id": "OkGBsrjsGkqz"
      },
      "outputs": [],
      "source": [
        "#Handling the remaining columns that have null values\n",
        "# Fill with median\n",
        "df['Number.of.Engines'] = df['Number.of.Engines'].fillna(df['Number.of.Engines'].median())\n",
        "\n",
        "#Handling publication date\n",
        "df.drop(columns=['Publication.Date'], inplace=True)\n"
      ]
    },
    {
      "cell_type": "code",
      "execution_count": 31,
      "metadata": {
        "colab": {
          "base_uri": "https://localhost:8080/",
          "height": 0
        },
        "id": "XNYsSqj6HEG6",
        "outputId": "7a663f63-2fce-48b5-8ebd-05428d481a86"
      },
      "outputs": [
        {
          "data": {
            "text/plain": [
              "4377"
            ]
          },
          "execution_count": 31,
          "metadata": {},
          "output_type": "execute_result"
        }
      ],
      "source": [
        "df.isnull().sum().sum()"
      ]
    },
    {
      "cell_type": "markdown",
      "metadata": {
        "id": "UY3Lv12mHcH2"
      },
      "source": [
        "# **EXPLORATORY DATA ANALYSIS (EDA)**"
      ]
    },
    {
      "cell_type": "markdown",
      "metadata": {
        "id": "jh_H_4RBHqdb"
      },
      "source": [
        "Univariate Analysis"
      ]
    },
    {
      "cell_type": "code",
      "execution_count": 32,
      "metadata": {
        "colab": {
          "base_uri": "https://localhost:8080/",
          "height": 300
        },
        "id": "QnUguiGhabpD",
        "outputId": "3aba4dd7-0935-4b8a-a230-fda25fb44f6c"
      },
      "outputs": [
        {
          "data": {
            "text/html": [
              "<div>\n",
              "<style scoped>\n",
              "    .dataframe tbody tr th:only-of-type {\n",
              "        vertical-align: middle;\n",
              "    }\n",
              "\n",
              "    .dataframe tbody tr th {\n",
              "        vertical-align: top;\n",
              "    }\n",
              "\n",
              "    .dataframe thead th {\n",
              "        text-align: right;\n",
              "    }\n",
              "</style>\n",
              "<table border=\"1\" class=\"dataframe\">\n",
              "  <thead>\n",
              "    <tr style=\"text-align: right;\">\n",
              "      <th></th>\n",
              "      <th>Total.Fatal.Injuries</th>\n",
              "      <th>Total.Serious.Injuries</th>\n",
              "      <th>Total.Minor.Injuries</th>\n",
              "      <th>Total.Uninjured</th>\n",
              "      <th>Number.of.Engines</th>\n",
              "    </tr>\n",
              "  </thead>\n",
              "  <tbody>\n",
              "    <tr>\n",
              "      <th>count</th>\n",
              "      <td>90348.000000</td>\n",
              "      <td>90348.000000</td>\n",
              "      <td>90348.000000</td>\n",
              "      <td>90348.000000</td>\n",
              "      <td>90348.000000</td>\n",
              "    </tr>\n",
              "    <tr>\n",
              "      <th>mean</th>\n",
              "      <td>0.555640</td>\n",
              "      <td>0.236607</td>\n",
              "      <td>0.304135</td>\n",
              "      <td>4.890966</td>\n",
              "      <td>1.134347</td>\n",
              "    </tr>\n",
              "    <tr>\n",
              "      <th>std</th>\n",
              "      <td>5.085584</td>\n",
              "      <td>1.423306</td>\n",
              "      <td>2.067189</td>\n",
              "      <td>26.790427</td>\n",
              "      <td>0.429384</td>\n",
              "    </tr>\n",
              "    <tr>\n",
              "      <th>min</th>\n",
              "      <td>0.000000</td>\n",
              "      <td>0.000000</td>\n",
              "      <td>0.000000</td>\n",
              "      <td>0.000000</td>\n",
              "      <td>0.000000</td>\n",
              "    </tr>\n",
              "    <tr>\n",
              "      <th>25%</th>\n",
              "      <td>0.000000</td>\n",
              "      <td>0.000000</td>\n",
              "      <td>0.000000</td>\n",
              "      <td>0.000000</td>\n",
              "      <td>1.000000</td>\n",
              "    </tr>\n",
              "    <tr>\n",
              "      <th>50%</th>\n",
              "      <td>0.000000</td>\n",
              "      <td>0.000000</td>\n",
              "      <td>0.000000</td>\n",
              "      <td>1.000000</td>\n",
              "      <td>1.000000</td>\n",
              "    </tr>\n",
              "    <tr>\n",
              "      <th>75%</th>\n",
              "      <td>0.000000</td>\n",
              "      <td>0.000000</td>\n",
              "      <td>0.000000</td>\n",
              "      <td>2.000000</td>\n",
              "      <td>1.000000</td>\n",
              "    </tr>\n",
              "    <tr>\n",
              "      <th>max</th>\n",
              "      <td>349.000000</td>\n",
              "      <td>161.000000</td>\n",
              "      <td>380.000000</td>\n",
              "      <td>699.000000</td>\n",
              "      <td>8.000000</td>\n",
              "    </tr>\n",
              "  </tbody>\n",
              "</table>\n",
              "</div>"
            ],
            "text/plain": [
              "       Total.Fatal.Injuries  Total.Serious.Injuries  Total.Minor.Injuries  \\\n",
              "count          90348.000000            90348.000000          90348.000000   \n",
              "mean               0.555640                0.236607              0.304135   \n",
              "std                5.085584                1.423306              2.067189   \n",
              "min                0.000000                0.000000              0.000000   \n",
              "25%                0.000000                0.000000              0.000000   \n",
              "50%                0.000000                0.000000              0.000000   \n",
              "75%                0.000000                0.000000              0.000000   \n",
              "max              349.000000              161.000000            380.000000   \n",
              "\n",
              "       Total.Uninjured  Number.of.Engines  \n",
              "count     90348.000000       90348.000000  \n",
              "mean          4.890966           1.134347  \n",
              "std          26.790427           0.429384  \n",
              "min           0.000000           0.000000  \n",
              "25%           0.000000           1.000000  \n",
              "50%           1.000000           1.000000  \n",
              "75%           2.000000           1.000000  \n",
              "max         699.000000           8.000000  "
            ]
          },
          "execution_count": 32,
          "metadata": {},
          "output_type": "execute_result"
        }
      ],
      "source": [
        "#Numerical cols\n",
        "numerical_cols = ['Total.Fatal.Injuries', 'Total.Serious.Injuries', 'Total.Minor.Injuries', 'Total.Uninjured', 'Number.of.Engines']\n",
        "df[numerical_cols].describe()"
      ]
    },
    {
      "cell_type": "code",
      "execution_count": 33,
      "metadata": {
        "colab": {
          "base_uri": "https://localhost:8080/",
          "height": 0
        },
        "id": "dDWen7_NwyHQ",
        "outputId": "8dbe26cd-f78c-4558-8a7a-84b4a4a9814b"
      },
      "outputs": [
        {
          "name": "stdout",
          "output_type": "stream",
          "text": [
            "                        min    max      mean  median        std\n",
            "Total.Fatal.Injuries    0.0  349.0  0.555640     0.0   5.085584\n",
            "Total.Serious.Injuries  0.0  161.0  0.236607     0.0   1.423306\n",
            "Total.Minor.Injuries    0.0  380.0  0.304135     0.0   2.067189\n",
            "Total.Uninjured         0.0  699.0  4.890966     1.0  26.790427\n",
            "Number.of.Engines       0.0    8.0  1.134347     1.0   0.429384\n"
          ]
        }
      ],
      "source": [
        "# Convert to numeric in case there are non-numeric entries\n",
        "df[numerical_cols] = df[numerical_cols].apply(pd.to_numeric, errors='coerce')\n",
        "\n",
        "# Display summary statistics\n",
        "summary = df[numerical_cols].describe().T[['min', 'max', 'mean', '50%', 'std']]\n",
        "summary.rename(columns={'50%': 'median'}, inplace=True)\n",
        "print(summary)"
      ]
    },
    {
      "cell_type": "code",
      "execution_count": 34,
      "metadata": {
        "colab": {
          "base_uri": "https://localhost:8080/",
          "height": 429
        },
        "id": "xernwLwGOduq",
        "outputId": "40bdf88a-026e-45e6-c1da-3182f62dfd72"
      },
      "outputs": [
        {
          "data": {
            "text/plain": [
              "DH-100 MK.6            1\n",
              "767-251                1\n",
              "BD12                   1\n",
              "SA-3B                  1\n",
              "SU-26M                 1\n",
              "XPA-18                 1\n",
              "PA 18-105 SPECIAL      1\n",
              "KOLB TWINSTAR MK II    1\n",
              "7GCA                   1\n",
              "QUICKSILVER MXLII      1\n",
              "Name: Model, dtype: int64"
            ]
          },
          "execution_count": 34,
          "metadata": {},
          "output_type": "execute_result"
        }
      ],
      "source": [
        "#Analysis of the model with the no of incidents\n",
        "df['Model'].value_counts().head(10) # Check the top 10 models with the most accidents and incidents\n",
        "df['Model'].value_counts().tail(10)"
      ]
    },
    {
      "cell_type": "code",
      "execution_count": 35,
      "metadata": {
        "colab": {
          "base_uri": "https://localhost:8080/",
          "height": 429
        },
        "id": "wrkgxJbmOi-J",
        "outputId": "a79f5f09-f48c-4fcd-902e-dbdf13631aa4"
      },
      "outputs": [
        {
          "data": {
            "text/plain": [
              "2013.0    1561\n",
              "2021.0    1545\n",
              "2014.0    1535\n",
              "2020.0    1392\n",
              "1979.0       2\n",
              "1981.0       1\n",
              "1977.0       1\n",
              "1974.0       1\n",
              "1962.0       1\n",
              "1948.0       1\n",
              "Name: Year, dtype: int64"
            ]
          },
          "execution_count": 35,
          "metadata": {},
          "output_type": "execute_result"
        }
      ],
      "source": [
        "# Take the year from the 'Event.Date' column and create a new 'Year' column\n",
        "df['Year'] = pd.to_datetime(df['Event.Date'], errors='coerce').dt.year\n",
        "\n",
        "# Total fatalities and injuries by year\n",
        "df['Year'].value_counts().head(10) # Check the top 10 years with the most accidents and incidents\n",
        "df['Year'].value_counts().tail(10) # Check the bottom 10 years with the most accidents and incidents"
      ]
    },
    {
      "cell_type": "code",
      "execution_count": 36,
      "metadata": {
        "colab": {
          "base_uri": "https://localhost:8080/",
          "height": 585
        },
        "id": "18wt0UO__ZR7",
        "outputId": "e3107f64-e101-4778-a21d-b747329928ec"
      },
      "outputs": [
        {
          "data": {
            "image/png": "[encoded data removed]",
            "text/plain": [
              "<Figure size 1080x432 with 1 Axes>"
            ]
          },
          "metadata": {
            "needs_background": "light"
          },
          "output_type": "display_data"
        }
      ],
      "source": [
        "#Total accidents and incidents by year\n",
        "df['Year'].value_counts().sort_index().plot(kind='bar', figsize=(15, 6))\n",
        "plt.title('Total Accidents and Incidents by Year')\n",
        "plt.xlabel('Year')\n",
        "plt.ylabel('Number of Accidents and Incidents')\n",
        "plt.xticks(rotation=45)\n",
        "plt.show()"
      ]
    },
    {
      "cell_type": "code",
      "execution_count": 37,
      "metadata": {
        "colab": {
          "base_uri": "https://localhost:8080/",
          "height": 642
        },
        "id": "FkLPkJbpFijF",
        "outputId": "4fa01d3a-9d51-4e61-e431-8f75b9bb8934"
      },
      "outputs": [
        {
          "data": {
            "image/png": "[encoded data removed]",
            "text/plain": [
              "<Figure size 864x432 with 1 Axes>"
            ]
          },
          "metadata": {
            "needs_background": "light"
          },
          "output_type": "display_data"
        }
      ],
      "source": [
        "#boxplot of key injury and aircraft variables\n",
        "plt.figure(figsize=(12, 6))\n",
        "sns.boxplot(data=df[['Total.Fatal.Injuries', 'Total.Serious.Injuries',\n",
        "                     'Total.Minor.Injuries', 'Total.Uninjured',\n",
        "                     'Number.of.Engines']])\n",
        "plt.xticks(rotation=45)\n",
        "plt.title('Boxplot of Key Injury and Aircraft Variables')\n",
        "plt.show()"
      ]
    },
    {
      "cell_type": "code",
      "execution_count": 38,
      "metadata": {
        "colab": {
          "base_uri": "https://localhost:8080/",
          "height": 0
        },
        "id": "qLHVY4Nqsma_",
        "outputId": "03a18793-01f5-4bb2-9749-136858936d71"
      },
      "outputs": [],
      "source": [
        "#Handling skewed data\n",
        "df['Total.Serious.Injuries'] = pd.to_numeric(df['Total.Serious.Injuries'], errors='coerce')\n",
        "df['Total.Serious.Injuries'].fillna(0, inplace=True)"
      ]
    },
    {
      "cell_type": "code",
      "execution_count": 39,
      "metadata": {
        "colab": {
          "base_uri": "https://localhost:8080/",
          "height": 0
        },
        "id": "CNonq6QUxQYZ",
        "outputId": "6e89c9f6-5256-4c4c-dee5-c56b2b6d5210"
      },
      "outputs": [
        {
          "name": "stdout",
          "output_type": "stream",
          "text": [
            "Total.Fatal.Injuries: Zeros = 72535, Skewness = 35.60\n",
            "Total.Serious.Injuries: Zeros = 77258, Skewness = 53.41\n",
            "Total.Minor.Injuries: Zeros = 74846, Skewness = 94.10\n",
            "Total.Uninjured: Zeros = 37250, Skewness = 9.49\n",
            "Number.of.Engines: Zeros = 1226, Skewness = 2.74\n"
          ]
        }
      ],
      "source": [
        "#zero counts and skewness\n",
        "for col in numerical_cols:\n",
        "    zero_count = (df[col] == 0).sum()\n",
        "    skew = df[col].skew()\n",
        "    print(f\"{col}: Zeros = {zero_count}, Skewness = {skew:.2f}\")"
      ]
    },
    {
      "cell_type": "markdown",
      "metadata": {
        "id": "f7aWiXV-vYu6"
      },
      "source": [
        "Bivariate Aanalysis"
      ]
    },
    {
      "cell_type": "code",
      "execution_count": 40,
      "metadata": {
        "colab": {
          "base_uri": "https://localhost:8080/",
          "height": 576
        },
        "id": "WOEiokZivbcd",
        "outputId": "f2171ed1-cbc4-4fed-ab5c-93af41cf0971"
      },
      "outputs": [
        {
          "data": {
            "image/png": "[encoded data removed]",
            "text/plain": [
              "<Figure size 1080x432 with 1 Axes>"
            ]
          },
          "metadata": {
            "needs_background": "light"
          },
          "output_type": "display_data"
        }
      ],
      "source": [
        "# Total accidents by engine type and number of engines\n",
        "df['Engine.Type'].value_counts().head(10) # Check the top 10 engine types with the most accidents and incidents\n",
        "df['Number.of.Engines'].value_counts().head(10) # Check the top 10 engine counts with the most accidents and incidents\n",
        "df['Number.of.Engines'].value_counts().tail(10) # Check the bottom 10 engine counts with the most accidents and incidents\n",
        "df['Number.of.Engines'].value_counts().sort_index().plot(kind='bar', figsize=(15, 6))\n",
        "plt.title('Total Accidents and Incidents by Number of Engines')\n",
        "plt.xlabel('Number of Engines')\n",
        "plt.ylabel('Number of Accidents and Incidents')\n",
        "plt.xticks(rotation=45)\n",
        "plt.show()\n",
        "\n"
      ]
    },
    {
      "cell_type": "markdown",
      "metadata": {
        "id": "vFXLLB9xPMDb"
      },
      "source": [
        "weather conditions which cause the most incidences"
      ]
    },
    {
      "cell_type": "code",
      "execution_count": 41,
      "metadata": {
        "colab": {
          "base_uri": "https://localhost:8080/",
          "height": 272
        },
        "id": "3x8tWjaUPRXi",
        "outputId": "5a8f4128-8287-4541-85e4-85538b3a877f"
      },
      "outputs": [
        {
          "data": {
            "text/plain": [
              "VMC        77303\n",
              "IMC         5976\n",
              "Unknown     5951\n",
              "UNK          856\n",
              "Unk          262\n",
              "Name: Weather.Condition, dtype: int64"
            ]
          },
          "execution_count": 41,
          "metadata": {},
          "output_type": "execute_result"
        }
      ],
      "source": [
        "#Weather conditions analysis\n",
        "df['Weather.Condition'].value_counts().head(10) # Check the top 10 weather conditions with the most accidents and incidents\n",
        "df['Weather.Condition'].value_counts().tail(10) # Check the bottom 10 weather conditions with the most accidents and incidents"
      ]
    },
    {
      "cell_type": "code",
      "execution_count": 42,
      "metadata": {
        "colab": {
          "base_uri": "https://localhost:8080/",
          "height": 606
        },
        "id": "l4YIgk5LPcNx",
        "outputId": "9c50ae8e-9c1a-4890-ab10-64a04751b95a"
      },
      "outputs": [
        {
          "data": {
            "image/png": "[encoded data removed]",
            "text/plain": [
              "<Figure size 1080x432 with 1 Axes>"
            ]
          },
          "metadata": {
            "needs_background": "light"
          },
          "output_type": "display_data"
        }
      ],
      "source": [
        "#Weather conditions and accidents\n",
        "df['Weather.Condition'].value_counts().sort_index().plot(kind='bar', figsize=(15, 6))\n",
        "plt.title('Total Accidents and Incidents by Weather Condition')\n",
        "plt.xlabel('Weather Condition')\n",
        "plt.ylabel('Number of Accidents and Incidents')\n",
        "plt.xticks(rotation=45)\n",
        "plt.legend (loc='upper right')\n",
        "plt.grid(axis='y', linestyle='--', alpha=0.7)\n",
        "plt.show()"
      ]
    },
    {
      "cell_type": "code",
      "execution_count": 43,
      "metadata": {
        "colab": {
          "base_uri": "https://localhost:8080/",
          "height": 642
        },
        "id": "2w-sNBi3PiVE",
        "outputId": "2f749f9d-57e9-448b-bc65-3d668be3760b"
      },
      "outputs": [
        {
          "data": {
            "image/png": "[encoded data removed]",
            "text/plain": [
              "<Figure size 1080x432 with 1 Axes>"
            ]
          },
          "metadata": {
            "needs_background": "light"
          },
          "output_type": "display_data"
        }
      ],
      "source": [
        "#Engine type and accidents\n",
        "df['Engine.Type'].value_counts().sort_index().plot(kind='bar', figsize=(15, 6))\n",
        "plt.title('Total Accidents and Incidents by Engine Type')\n",
        "plt.xlabel('Engine Type')\n",
        "plt.ylabel('Number of Accidents and Incidents')\n",
        "plt.xticks(rotation=45)\n",
        "plt.show()"
      ]
    },
    {
      "cell_type": "code",
      "execution_count": 44,
      "metadata": {
        "colab": {
          "base_uri": "https://localhost:8080/",
          "height": 487
        },
        "id": "gqTXolAIvgfQ",
        "outputId": "4a62b6cb-497d-467e-ffa0-827aa92790db"
      },
      "outputs": [
        {
          "data": {
            "image/png": "[encoded data removed]",
            "text/plain": [
              "<Figure size 432x288 with 1 Axes>"
            ]
          },
          "metadata": {
            "needs_background": "light"
          },
          "output_type": "display_data"
        }
      ],
      "source": [
        "#categorical vs numerical\n",
        "sns.boxplot(x='Broad.phase.of.flight', y='Total.Fatal.Injuries', data=df)\n",
        "plt.title(\"Total Fatal Injuries by Phase of Flight\")\n",
        "plt.xlabel(\"Phase of Flight\")\n",
        "plt.ylabel(\"Total Fatal Injuries\")\n",
        "plt.xticks(rotation=45)\n",
        "plt.tight_layout()\n",
        "plt.show()\n"
      ]
    },
    {
      "cell_type": "code",
      "execution_count": 45,
      "metadata": {
        "colab": {
          "base_uri": "https://localhost:8080/",
          "height": 487
        },
        "id": "w1S_UPzS6yCx",
        "outputId": "f77b05ed-4586-4879-96d0-90715f061080"
      },
      "outputs": [
        {
          "data": {
            "image/png": "[encoded data removed]",
            "text/plain": [
              "<Figure size 432x288 with 1 Axes>"
            ]
          },
          "metadata": {
            "needs_background": "light"
          },
          "output_type": "display_data"
        }
      ],
      "source": [
        "#umerical vs numerical\n",
        "# Scatter plot between Serious and Fatal Injuries\n",
        "sns.scatterplot(x='Total.Fatal.Injuries', y='Total.Serious.Injuries', data=df)\n",
        "plt.title(\"Fatal vs Serious Injuries\")\n",
        "plt.xlabel(\"Total Fatal Injuries\")\n",
        "plt.ylabel(\"Total Serious Injuries\")\n",
        "plt.tight_layout()\n",
        "plt.show()"
      ]
    },
    {
      "cell_type": "code",
      "execution_count": 46,
      "metadata": {
        "colab": {
          "base_uri": "https://localhost:8080/",
          "height": 487
        },
        "id": "J8SEZuVC6-L_",
        "outputId": "3ff01f00-3f47-407e-ba2d-473fd8df9f7e"
      },
      "outputs": [
        {
          "data": {
            "image/png": "[encoded data removed]",
            "text/plain": [
              "<Figure size 432x288 with 2 Axes>"
            ]
          },
          "metadata": {
            "needs_background": "light"
          },
          "output_type": "display_data"
        }
      ],
      "source": [
        "#correlation heatmap of injury columns\n",
        "injury_cols = ['Total.Fatal.Injuries', 'Total.Serious.Injuries', 'Total.Minor.Injuries', 'Total.Uninjured']\n",
        "corr = df[injury_cols].corr()\n",
        "sns.heatmap(corr, annot=True, cmap='coolwarm')\n",
        "plt.title(\"Correlation Heatmap of Injury Counts\")\n",
        "plt.tight_layout()\n",
        "plt.show()"
      ]
    },
    {
      "cell_type": "markdown",
      "metadata": {
        "id": "_ke4FjC-x5fA"
      },
      "source": [
        "Mulltivariate Analysis\n"
      ]
    },
    {
      "cell_type": "code",
      "execution_count": 47,
      "metadata": {
        "id": "DjeSlpA_yi7K"
      },
      "outputs": [],
      "source": [
        "# Count the top 10 most common aircraft makes\n",
        "top_10_makes = df['Make'].value_counts().nlargest(10).index\n",
        "\n",
        "# Create a new column that groups lesser makes as 'Other'\n",
        "df['Make_Grouped'] = df['Make'].apply(lambda x: x if x in top_10_makes else 'Other')"
      ]
    },
    {
      "cell_type": "code",
      "execution_count": 48,
      "metadata": {
        "colab": {
          "base_uri": "https://localhost:8080/",
          "height": 487
        },
        "id": "d32k8fq9ykg1",
        "outputId": "fad1ff7d-9c6b-4b10-a59b-f0d3dd2b292b"
      },
      "outputs": [
        {
          "data": {
            "image/png": "[encoded data removed]",
            "text/plain": [
              "<Figure size 432x288 with 1 Axes>"
            ]
          },
          "metadata": {
            "needs_background": "light"
          },
          "output_type": "display_data"
        }
      ],
      "source": [
        "df['Make_Grouped'].value_counts().plot(kind='bar', title='Top 10 Aircraft Makes + Other')\n",
        "plt.xlabel('Aircraft Make')\n",
        "plt.ylabel('Count')\n",
        "plt.xticks(rotation=45)\n",
        "plt.tight_layout()\n",
        "plt.show()"
      ]
    },
    {
      "cell_type": "code",
      "execution_count": 49,
      "metadata": {
        "colab": {
          "base_uri": "https://localhost:8080/",
          "height": 582
        },
        "id": "MtA_R5tF0uIj",
        "outputId": "d8cda6f9-cc5a-4e2e-d802-5bd043effb11"
      },
      "outputs": [
        {
          "data": {
            "image/png": "[encoded data removed]",
            "text/plain": [
              "<Figure size 432x288 with 2 Axes>"
            ]
          },
          "metadata": {
            "needs_background": "light"
          },
          "output_type": "display_data"
        }
      ],
      "source": [
        "\n",
        "\n",
        "injury_vars = ['Total.Fatal.Injuries', 'Total.Serious.Injuries', 'Total.Minor.Injuries']\n",
        "\n",
        "# Convert to numeric in case of issues\n",
        "df[injury_vars] = df[injury_vars].apply(pd.to_numeric, errors='coerce')\n",
        "\n",
        "# Correlation matrix and heatmap\n",
        "corr = df[injury_vars].corr()\n",
        "sns.heatmap(corr, annot=True, cmap='Reds', vmin=0, vmax=1)\n",
        "plt.title('Correlation Between Injury Types')\n",
        "plt.show()"
      ]
    },
    {
      "cell_type": "code",
      "execution_count": 50,
      "metadata": {
        "colab": {
          "base_uri": "https://localhost:8080/",
          "height": 472
        },
        "id": "OY6buEeS1DK1",
        "outputId": "099b7571-514d-4f61-a8ce-84c00404aaf9"
      },
      "outputs": [
        {
          "data": {
            "image/png": "[encoded data removed]",
            "text/plain": [
              "<Figure size 432x288 with 1 Axes>"
            ]
          },
          "metadata": {
            "needs_background": "light"
          },
          "output_type": "display_data"
        }
      ],
      "source": [
        "sns.scatterplot(data=df, x='Total.Serious.Injuries', y='Total.Fatal.Injuries')\n",
        "plt.title('Fatal vs. Serious Injuries')\n",
        "plt.xlabel('Total Serious Injuries')\n",
        "plt.ylabel('Total Fatal Injuries')\n",
        "plt.show()"
      ]
    },
    {
      "cell_type": "code",
      "execution_count": 51,
      "metadata": {
        "colab": {
          "base_uri": "https://localhost:8080/",
          "height": 472
        },
        "id": "cQTC388U1KAf",
        "outputId": "faab6b95-08e3-467a-fa00-94ade1e9d6a8"
      },
      "outputs": [
        {
          "data": {
            "image/png": "[encoded data removed]",
            "text/plain": [
              "<Figure size 432x288 with 1 Axes>"
            ]
          },
          "metadata": {
            "needs_background": "light"
          },
          "output_type": "display_data"
        }
      ],
      "source": [
        "sns.scatterplot(data=df, x='Number.of.Engines', y='Total.Fatal.Injuries')\n",
        "plt.title('Engines vs. Fatal Injuries')\n",
        "plt.xlabel('Number of Engines')\n",
        "plt.ylabel('Total Fatal Injuries')\n",
        "plt.show()"
      ]
    },
    {
      "cell_type": "code",
      "execution_count": 52,
      "metadata": {
        "colab": {
          "base_uri": "https://localhost:8080/",
          "height": 0
        },
        "id": "ZthXnaV6HUf6",
        "outputId": "ce8a736d-7275-4996-ea45-6ca99a73c3e2"
      },
      "outputs": [
        {
          "name": "stdout",
          "output_type": "stream",
          "text": [
            "0    72535\n",
            "1    17813\n",
            "Name: Is_Fatal, dtype: int64\n"
          ]
        }
      ],
      "source": [
        "# Create a binary column 'Is_Fatal'\n",
        "df['Is_Fatal'] = df['Total.Fatal.Injuries'].fillna(0).apply(lambda x: 1 if x > 0 else 0)\n",
        "\n",
        "# Optional: preview value counts to confirm\n",
        "print(df['Is_Fatal'].value_counts())\n"
      ]
    },
    {
      "cell_type": "code",
      "execution_count": 53,
      "metadata": {
        "colab": {
          "base_uri": "https://localhost:8080/",
          "height": 143
        },
        "id": "3RE_masTHofK",
        "outputId": "cebbf187-e356-4d71-d898-5f28f29ffd19"
      },
      "outputs": [
        {
          "data": {
            "text/html": [
              "<div>\n",
              "<style scoped>\n",
              "    .dataframe tbody tr th:only-of-type {\n",
              "        vertical-align: middle;\n",
              "    }\n",
              "\n",
              "    .dataframe tbody tr th {\n",
              "        vertical-align: top;\n",
              "    }\n",
              "\n",
              "    .dataframe thead th {\n",
              "        text-align: right;\n",
              "    }\n",
              "</style>\n",
              "<table border=\"1\" class=\"dataframe\">\n",
              "  <thead>\n",
              "    <tr style=\"text-align: right;\">\n",
              "      <th></th>\n",
              "      <th>Total.Serious.Injuries</th>\n",
              "      <th>Total.Minor.Injuries</th>\n",
              "      <th>Total.Uninjured</th>\n",
              "    </tr>\n",
              "    <tr>\n",
              "      <th>Is_Fatal</th>\n",
              "      <th></th>\n",
              "      <th></th>\n",
              "      <th></th>\n",
              "    </tr>\n",
              "  </thead>\n",
              "  <tbody>\n",
              "    <tr>\n",
              "      <th>0</th>\n",
              "      <td>0.228000</td>\n",
              "      <td>0.330944</td>\n",
              "      <td>5.985359</td>\n",
              "    </tr>\n",
              "    <tr>\n",
              "      <th>1</th>\n",
              "      <td>0.271656</td>\n",
              "      <td>0.194970</td>\n",
              "      <td>0.434570</td>\n",
              "    </tr>\n",
              "  </tbody>\n",
              "</table>\n",
              "</div>"
            ],
            "text/plain": [
              "          Total.Serious.Injuries  Total.Minor.Injuries  Total.Uninjured\n",
              "Is_Fatal                                                               \n",
              "0                       0.228000              0.330944         5.985359\n",
              "1                       0.271656              0.194970         0.434570"
            ]
          },
          "execution_count": 53,
          "metadata": {},
          "output_type": "execute_result"
        }
      ],
      "source": [
        "df.groupby('Is_Fatal')[['Total.Serious.Injuries', 'Total.Minor.Injuries', 'Total.Uninjured']].mean()\n"
      ]
    },
    {
      "cell_type": "code",
      "execution_count": 54,
      "metadata": {
        "colab": {
          "base_uri": "https://localhost:8080/",
          "height": 559
        },
        "id": "dm0mLxt9H4Hl",
        "outputId": "bc087d74-2e3a-46dd-e3f8-e714216fb711"
      },
      "outputs": [
        {
          "data": {
            "image/png": "[encoded data removed]",
            "text/plain": [
              "<Figure size 432x288 with 1 Axes>"
            ]
          },
          "metadata": {
            "needs_background": "light"
          },
          "output_type": "display_data"
        }
      ],
      "source": [
        "sns.countplot(data=df, x='Is_Fatal', palette='Set2')\n",
        "plt.title('Count of Fatal vs Non-Fatal Accidents')\n",
        "plt.xlabel('Is Fatal (1 = Fatal, 0 = Non-Fatal)')\n",
        "plt.ylabel('Number of Accidents')\n",
        "plt.xticks([0, 1], ['Non-Fatal', 'Fatal'])\n",
        "plt.show()\n"
      ]
    },
    {
      "cell_type": "code",
      "execution_count": 55,
      "metadata": {
        "id": "lKq_WIpPS0uh"
      },
      "outputs": [],
      "source": [
        "df.to_csv(\"cleaned_aviation_data.csv\", index=False)\n"
      ]
    },
    {
      "cell_type": "markdown",
      "metadata": {
        "id": "595hcNRsG5_j"
      },
      "source": [
        "#Conclusion"
      ]
    },
    {
      "cell_type": "code",
      "execution_count": 56,
      "metadata": {
        "colab": {
          "base_uri": "https://localhost:8080/",
          "height": 87
        },
        "id": "qrPbET9OG72X",
        "outputId": "d02de7ab-3150-41e6-9335-529e5ad4b457"
      },
      "outputs": [
        {
          "data": {
            "text/plain": [
              "'\\nThe aviation accident dataset reveals notable trends across time, conditions, and operational contexts.\\nA significant concentration of reported incidents has occurred since the year 2000, which may reflect enhanced reporting practices rather than an actual rise in accident frequency.\\nSeasonal variation is apparent, with a slight uptick during the summer months—potentially due to increased flight activity.\\nWhile weekday patterns are relatively even, weekends show marginally fewer events.\\n\\nMost records are categorized as incidents rather than full accidents, with fatal injuries comprising a minority of cases—though still posing serious implications.\\nHigher injury severity is clearly associated with more extensive aircraft damage, particularly in cases of destruction.\\nInterestingly, most accidents happened under clear weather, suggesting human or mechanical error played a greater role than environmental factors.\\nCrucial flight phases, especially takeoff, landing, and en route, are frequently linked to accident severity, with the en route phase associated with more fatalities.\\n\\nGeneral aviation—especially private and recreational flights—constitutes the majority of events.\\nCommon aircraft makes such as Cessna and Piper appear frequently due to their widespread use.\\nTechnical characteristics also matter: single-engine, reciprocating-engine aircraft feature prominently.\\nWhile weather alone may not reliably predict fatalities, its interaction with flight phase and purpose provides important context for risk analysis and safety planning.\\n\\n'"
            ]
          },
          "execution_count": 56,
          "metadata": {},
          "output_type": "execute_result"
        }
      ],
      "source": [
        "'''\n",
        "The aviation accident dataset reveals notable trends across time, conditions, and operational contexts.\n",
        "A significant concentration of reported incidents has occurred since the year 2000, which may reflect enhanced reporting practices rather than an actual rise in accident frequency.\n",
        "Seasonal variation is apparent, with a slight uptick during the summer months—potentially due to increased flight activity.\n",
        "While weekday patterns are relatively even, weekends show marginally fewer events.\n",
        "\n",
        "Most records are categorized as incidents rather than full accidents, with fatal injuries comprising a minority of cases—though still posing serious implications.\n",
        "Higher injury severity is clearly associated with more extensive aircraft damage, particularly in cases of destruction.\n",
        "Interestingly, most accidents happened under clear weather, suggesting human or mechanical error played a greater role than environmental factors.\n",
        "Crucial flight phases, especially takeoff, landing, and en route, are frequently linked to accident severity, with the en route phase associated with more fatalities.\n",
        "\n",
        "General aviation—especially private and recreational flights—constitutes the majority of events.\n",
        "Common aircraft makes such as Cessna and Piper appear frequently due to their widespread use.\n",
        "Technical characteristics also matter: single-engine, reciprocating-engine aircraft feature prominently.\n",
        "While weather alone may not reliably predict fatalities, its interaction with flight phase and purpose provides important context for risk analysis and safety planning.\n",
        "\n",
        "'''\n"
      ]
    }
  ],
  "metadata": {
    "colab": {
      "provenance": []
    },
    "kernelspec": {
      "display_name": "learn-env",
      "language": "python",
      "name": "python3"
    },
    "language_info": {
      "codemirror_mode": {
        "name": "ipython",
        "version": 3
      },
      "file_extension": ".py",
      "mimetype": "text/x-python",
      "name": "python",
      "nbconvert_exporter": "python",
      "pygments_lexer": "ipython3",
      "version": "3.8.5"
    }
  },
  "nbformat": 4,
  "nbformat_minor": 0
}
